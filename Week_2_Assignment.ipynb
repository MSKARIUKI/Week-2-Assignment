{
  "nbformat": 4,
  "nbformat_minor": 0,
  "metadata": {
    "colab": {
      "provenance": []
    },
    "kernelspec": {
      "name": "python3",
      "display_name": "Python 3"
    },
    "language_info": {
      "name": "python"
    }
  },
  "cells": [
    {
      "cell_type": "code",
      "execution_count": 1,
      "metadata": {
        "colab": {
          "base_uri": "https://localhost:8080/"
        },
        "id": "ULgt8olHOo0e",
        "outputId": "9009d62b-ed09-4df5-f244-ce88250faa58"
      },
      "outputs": [
        {
          "output_type": "stream",
          "name": "stdout",
          "text": [
            "Index of 30 in my_list: 3\n",
            "Final list: [10, 15, 20, 30, 40, 50, 60]\n"
          ]
        }
      ],
      "source": [
        "# Create an empty list called my_list.\n",
        "my_list = []\n",
        "\n",
        "# Append the following elements to my_list: 10, 20, 30, 40.\n",
        "my_list.extend([10, 20, 30, 40])\n",
        "\n",
        "# Insert the value 15 at the second position in the list.\n",
        "my_list.insert(1, 15)\n",
        "\n",
        "# Extend my_list with another list: [50, 60, 70].\n",
        "my_list.extend([50, 60, 70])\n",
        "\n",
        "# Remove the last element from my_list.\n",
        "my_list.pop()\n",
        "\n",
        "# Sort my_list in ascending order.\n",
        "my_list.sort()\n",
        "\n",
        "# Find and print the index of the value 30 in my_list.\n",
        "index_30 = my_list.index(30)\n",
        "print(\"Index of 30 in my_list:\", index_30)\n",
        "\n",
        "# Print the final list.\n",
        "print(\"Final list:\", my_list)\n"
      ]
    }
  ]
}